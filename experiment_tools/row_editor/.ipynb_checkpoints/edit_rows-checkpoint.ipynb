{
 "cells": [
  {
   "cell_type": "code",
   "execution_count": 1,
   "metadata": {
    "ExecuteTime": {
     "end_time": "2021-07-05T14:54:10.815430Z",
     "start_time": "2021-07-05T14:54:10.543055Z"
    }
   },
   "outputs": [],
   "source": [
    "import uuid\n",
    "from hhutil.io import fmt_path, mv, eglob, rm, Path\n",
    "\n",
    "def swap_fp(fp1, fp2):\n",
    "    fp1, fp2 = fmt_path(fp1), fmt_path(fp2)\n",
    "    if not fp1.exists() and not fp2.exists():\n",
    "        return\n",
    "    elif not fp1.exists():\n",
    "        fp1, fp2 = fp2, fp1\n",
    "    temp_fp = fp1.parent / uuid.uuid4().hex\n",
    "    mv(fp1, temp_fp)\n",
    "    if fp2.exists():\n",
    "        mv(fp2, fp1)\n",
    "    mv(temp_fp, fp2)\n",
    "    \n",
    "\n",
    "class Sheet:\n",
    "    MAX_ROWS = 200\n",
    "\n",
    "    def __init__(self, root) -> None:\n",
    "        super().__init__()\n",
    "        root = Path(root)\n",
    "        if not root.is_absolute():\n",
    "            root = Path(__file__).parent.absolute().parent / root\n",
    "        assert root.exists()\n",
    "        self.root = root\n",
    "        self.code_dir = root / \"code\"\n",
    "        self.log_dir = root / \"log\"\n",
    "\n",
    "    def swap(self, row1, row2):\n",
    "        swap_fp(self.get_code(row1), self.get_code(row2))\n",
    "\n",
    "        log_files1 = self.get_logs(row1)\n",
    "        log_files2 = self.get_logs(row2)\n",
    "        for i in range(1, max(len(log_files1), len(log_files2)) + 1):\n",
    "            swap_fp(self.get_log(row1, i),self.get_log(row2, i))\n",
    "\n",
    "    def get_log(self, row, seq):\n",
    "# if CIFAR, ignore these codes\n",
    "#         if seq == 1:\n",
    "#             log = self.log_dir / f\"{row}.log\"\n",
    "#             return log\n",
    "        return self.log_dir / f\"{row}-{seq}.log\"\n",
    "\n",
    "    def get_logs(self, row):\n",
    "        results = list(eglob(self.log_dir, f\"{row}-*.log\"))\n",
    "        log = self.log_dir / f\"{row}.log\"\n",
    "        if log.exists():\n",
    "            results.append(log)\n",
    "        return results\n",
    "\n",
    "    def get_code(self, row):\n",
    "        return self.code_dir / f\"{row}.py\"\n",
    "\n",
    "    def log_exist(self, row):\n",
    "        return len(self.get_logs(row)) != 0\n",
    "    \n",
    "    def code_exist(self, row):\n",
    "        return self.get_code(row).exists()\n",
    "\n",
    "    def exist(self, row):\n",
    "        return self.code_exist(row) or self.log_exist(row)\n",
    "\n",
    "    def shift_down(self, row):\n",
    "        assert self.exist(row) and not self.exist(row + 1)\n",
    "        self.swap(row, row + 1)\n",
    "\n",
    "    def shift_up(self, row):\n",
    "        assert self.exist(row) and not self.exist(row - 1)\n",
    "        self.swap(row, row - 1)\n",
    "\n",
    "    def insert(self, row):\n",
    "        last_row = self.find_last_row()\n",
    "        for i in reversed(range(row, last_row + 1)):\n",
    "            self.shift_down(i)\n",
    "\n",
    "    def find_last_row(self):\n",
    "        i = self.MAX_ROWS\n",
    "        while not self.exist(i):\n",
    "            i -= 1\n",
    "        return i\n",
    "        \n",
    "    def delete(self, row):\n",
    "        rm(self.get_code(row))\n",
    "        for f in self.get_logs(row):\n",
    "            rm(f)\n",
    "        last_row = self.find_last_row()\n",
    "        for i in range(row + 1, last_row + 1):\n",
    "            self.shift_up(i)"
   ]
  },
  {
   "cell_type": "code",
   "execution_count": 2,
   "metadata": {
    "ExecuteTime": {
     "end_time": "2021-07-05T14:54:14.389719Z",
     "start_time": "2021-07-05T14:54:14.378747Z"
    }
   },
   "outputs": [],
   "source": [
    "sheet = Sheet('C:/libraries/experiments/CIFAR10-TensorFlow-Yang/')"
   ]
  },
  {
   "cell_type": "code",
   "execution_count": 3,
   "metadata": {
    "ExecuteTime": {
     "end_time": "2021-07-05T14:54:42.426781Z",
     "start_time": "2021-07-05T14:54:42.397825Z"
    }
   },
   "outputs": [],
   "source": [
    "sheet.swap(7, 8)"
   ]
  },
  {
   "cell_type": "code",
   "execution_count": 5,
   "metadata": {
    "ExecuteTime": {
     "end_time": "2021-07-05T03:52:13.063023Z",
     "start_time": "2021-07-05T03:52:13.016122Z"
    }
   },
   "outputs": [],
   "source": [
    "sheet.swap(12, 13)"
   ]
  },
  {
   "cell_type": "code",
   "execution_count": null,
   "metadata": {},
   "outputs": [],
   "source": []
  }
 ],
 "metadata": {
  "kernelspec": {
   "display_name": "local Python",
   "language": "python",
   "name": "local"
  },
  "language_info": {
   "codemirror_mode": {
    "name": "ipython",
    "version": 3
   },
   "file_extension": ".py",
   "mimetype": "text/x-python",
   "name": "python",
   "nbconvert_exporter": "python",
   "pygments_lexer": "ipython3",
   "version": "3.6.8"
  }
 },
 "nbformat": 4,
 "nbformat_minor": 4
}
